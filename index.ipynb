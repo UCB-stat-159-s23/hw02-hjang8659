{
 "cells": [
  {
   "cell_type": "markdown",
   "id": "b674cb90-1910-476c-8da1-3af1eca63402",
   "metadata": {
    "tags": []
   },
   "source": [
    "This repository is public so that Binder can find it. All code and data is based on the original LIGO Center for Open Science Tutorial Repository. This repository is a class exercise that restructures the original LIGO code for improved reproducibility, as a homework assignment for the Spring 2022 installment of UC Berkeley's Stat 159/259 course, _Reproducible and Collaborative Data Science. Authorship of the original analysis code rests with the LIGO collaboration."
   ]
  },
  {
   "cell_type": "code",
   "execution_count": null,
   "id": "7d867ea7-7f9c-4699-973f-bfc7fdfc6148",
   "metadata": {},
   "outputs": [],
   "source": []
  }
 ],
 "metadata": {
  "kernelspec": {
   "display_name": "Python 3 (ipykernel)",
   "language": "python",
   "name": "python3"
  },
  "language_info": {
   "codemirror_mode": {
    "name": "ipython",
    "version": 3
   },
   "file_extension": ".py",
   "mimetype": "text/x-python",
   "name": "python",
   "nbconvert_exporter": "python",
   "pygments_lexer": "ipython3",
   "version": "3.10.8"
  }
 },
 "nbformat": 4,
 "nbformat_minor": 5
}
